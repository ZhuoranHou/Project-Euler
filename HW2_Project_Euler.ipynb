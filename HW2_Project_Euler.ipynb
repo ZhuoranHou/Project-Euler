{
 "cells": [
  {
   "cell_type": "markdown",
   "metadata": {},
   "source": [
    "## HW 2 Project Euler\n",
    "### Zhuoran Hou"
   ]
  },
  {
   "cell_type": "markdown",
   "metadata": {},
   "source": [
    "**First of all I solved these question using Python. Here are these questions and my solutions.** \n",
    "\n"
   ]
  },
  {
   "cell_type": "markdown",
   "metadata": {},
   "source": [
    "**Problem 5 Smallest multiple**"
   ]
  },
  {
   "cell_type": "markdown",
   "metadata": {},
   "source": [
    "2520 is the smallest number that can be divided by each of the numbers from 1 to 10 without any remainder.\n",
    "What is the smallest positive number that is evenly divisible by all of the numbers from 1 to 20?\n",
    "\n",
    "_**Solved by 489287 (2020/09/03)**_"
   ]
  },
  {
   "cell_type": "markdown",
   "metadata": {},
   "source": [
    "**Explanations & Answers:**"
   ]
  },
  {
   "cell_type": "markdown",
   "metadata": {},
   "source": [
    "Since if this number can be evenly divisible by numbers from 11 to 20, \n",
    "it must can be evenly divisible by numbers from 11 to 20. So we only need to check 11-20.\n"
   ]
  },
  {
   "cell_type": "markdown",
   "metadata": {},
   "source": [
    "I wrote two loops with a inside loop checking if the remainder equals to zero and a outside loop checking numbers in the given range. ”div“ is the value indicating the status of divisibility of the number. If  \"div == 1\" , then print the value."
   ]
  },
  {
   "cell_type": "code",
   "execution_count": 4,
   "metadata": {},
   "outputs": [],
   "source": [
    "def smallest_mul(n,a,b):\n",
    "    \"\"\"\n",
    "    This function calculate the smallest positive number that is evenly divisible by all of the numbers from given interval\n",
    "\n",
    "    :param n: range of largest number tested.\n",
    "    :param a: lower bound of the range of divisors.\n",
    "    :param b: upper bound of the range of divisors.\n",
    "    \n",
    "    output: print the number that meet the criterion in the test range.\n",
    "    \n",
    "    \"\"\"\n",
    "    \n",
    "    for x in range(1,n):\n",
    "        for i in range(a,b+1):\n",
    "            div = 0\n",
    "            if x % i != 0:\n",
    "                div = 1\n",
    "                break\n",
    "        if div == 0:\n",
    "            print(x)\n",
    "    \n",
    "    "
   ]
  },
  {
   "cell_type": "markdown",
   "metadata": {},
   "source": [
    "Two examples:"
   ]
  },
  {
   "cell_type": "code",
   "execution_count": 77,
   "metadata": {},
   "outputs": [
    {
     "name": "stdout",
     "output_type": "stream",
     "text": [
      "2520\n",
      "5040\n"
     ]
    }
   ],
   "source": [
    "smallest_mul(n=6000,a=1,b=10)"
   ]
  },
  {
   "cell_type": "code",
   "execution_count": 5,
   "metadata": {},
   "outputs": [
    {
     "name": "stdout",
     "output_type": "stream",
     "text": [
      "232792560\n"
     ]
    }
   ],
   "source": [
    "smallest_mul(n=300000000,a=11,b=20)"
   ]
  },
  {
   "cell_type": "markdown",
   "metadata": {},
   "source": [
    "Thus, the answer to is question is **232792560**.\n",
    "\n",
    "\n"
   ]
  },
  {
   "cell_type": "code",
   "execution_count": null,
   "metadata": {},
   "outputs": [],
   "source": []
  },
  {
   "cell_type": "markdown",
   "metadata": {},
   "source": [
    "**Problem 34 Digit factorials**"
   ]
  },
  {
   "cell_type": "markdown",
   "metadata": {},
   "source": [
    "145 is a curious number, as 1! + 4! + 5! = 1 + 24 + 120 = 145.\n",
    "Find the sum of all numbers which are equal to the sum of the factorial of their digits.\n",
    "Note: As 1! = 1 and 2! = 2 are not sums they are not included.\n",
    "\n",
    "_**Solved by 92955 (2020/09/03)**_\n"
   ]
  },
  {
   "cell_type": "markdown",
   "metadata": {},
   "source": [
    "**Explanations & Answers:**"
   ]
  },
  {
   "cell_type": "markdown",
   "metadata": {},
   "source": [
    "We first try to find the searching range."
   ]
  },
  {
   "cell_type": "code",
   "execution_count": 3,
   "metadata": {},
   "outputs": [],
   "source": [
    "import math"
   ]
  },
  {
   "cell_type": "code",
   "execution_count": 3,
   "metadata": {},
   "outputs": [
    {
     "data": {
      "text/plain": [
       "2903040"
      ]
     },
     "execution_count": 3,
     "metadata": {},
     "output_type": "execute_result"
    }
   ],
   "source": [
    "math.factorial(9)*8"
   ]
  },
  {
   "cell_type": "code",
   "execution_count": 2,
   "metadata": {
    "scrolled": true
   },
   "outputs": [
    {
     "data": {
      "text/plain": [
       "2540160"
      ]
     },
     "execution_count": 2,
     "metadata": {},
     "output_type": "execute_result"
    }
   ],
   "source": [
    "math.factorial(9)*7"
   ]
  },
  {
   "cell_type": "markdown",
   "metadata": {},
   "source": [
    "From the calculation above, we know that the numbers we search have at most 7 digits. For those have more digits, the sum of digit factorial will not be equal to the number itself."
   ]
  },
  {
   "cell_type": "code",
   "execution_count": 4,
   "metadata": {},
   "outputs": [],
   "source": [
    "def digsum(num):\n",
    "    \"\"\"\n",
    "    This function calculate the factorial sum of all digits of a number\n",
    "\n",
    "    :param num: the input number\n",
    "    \n",
    "    output: return the sum\n",
    "    \n",
    "    \"\"\"\n",
    "    \n",
    "    sumf = 0\n",
    "    for n in range(1,len(str(num))+1):\n",
    "        sumf += math.factorial((num // 10**(n-1)) % 10)\n",
    "    \n",
    "    return sumf\n"
   ]
  },
  {
   "cell_type": "code",
   "execution_count": 11,
   "metadata": {},
   "outputs": [
    {
     "name": "stdout",
     "output_type": "stream",
     "text": [
      "145\n",
      "40585\n",
      "The sum of all numbers which are equal to the sum of the factorial of their digits is 40730.\n"
     ]
    }
   ],
   "source": [
    "sumd = 0\n",
    "for x in range(3,10000000):\n",
    "    if x == digsum(x):\n",
    "        print(x)\n",
    "        sumd += digsum(x)\n",
    "\n",
    "print(f\"The sum of all numbers which are equal to the sum of the factorial of their digits is {sumd}.\")\n",
    "        "
   ]
  },
  {
   "cell_type": "code",
   "execution_count": 6,
   "metadata": {},
   "outputs": [
    {
     "data": {
      "text/plain": [
       "40730"
      ]
     },
     "execution_count": 6,
     "metadata": {},
     "output_type": "execute_result"
    }
   ],
   "source": [
    "digsum(145)+digsum(40585)"
   ]
  },
  {
   "cell_type": "markdown",
   "metadata": {},
   "source": [
    "Thus, the answer to this question is **40730**"
   ]
  },
  {
   "cell_type": "markdown",
   "metadata": {},
   "source": [
    "**Problem 112 Bouncy numbers**"
   ]
  },
  {
   "cell_type": "markdown",
   "metadata": {},
   "source": [
    "Working from left-to-right if no digit is exceeded by the digit to its left it is called an increasing number; for example, 134468.\n",
    "\n",
    "Similarly if no digit is exceeded by the digit to its right it is called a decreasing number; for example, 66420.\n",
    "\n",
    "We shall call a positive integer that is neither increasing nor decreasing a \"bouncy\" number; for example, 155349.\n",
    "\n",
    "Clearly there cannot be any bouncy numbers below one-hundred, but just over half of the numbers below one-thousand (525) are bouncy. In fact, the least number for which the proportion of bouncy numbers first reaches 50% is 538.\n",
    "\n",
    "Surprisingly, bouncy numbers become more and more common and by the time we reach 21780 the proportion of bouncy numbers is equal to 90%.\n",
    "\n",
    "Find the least number for which the proportion of bouncy numbers is exactly 99%.\n",
    "\n",
    "_**Solved by 23655 (2020/09/03)**_"
   ]
  },
  {
   "cell_type": "markdown",
   "metadata": {},
   "source": [
    "**Explanations & Answers:**"
   ]
  },
  {
   "cell_type": "markdown",
   "metadata": {},
   "source": [
    "First, I wrote a function to check if the number given is a bouncy number. If it is a bouncy number, then return \"True\", otherwise \"False\"."
   ]
  },
  {
   "cell_type": "code",
   "execution_count": 6,
   "metadata": {},
   "outputs": [],
   "source": [
    "def check_b(num):\n",
    "    \"\"\"\n",
    "    This function is to check if the number is a bouncy number\n",
    "    \n",
    "    :param num: the input number\n",
    "    \n",
    "    output: return the boolean Values\n",
    "    \n",
    "    \"\"\"\n",
    "    \n",
    "    nums = [0]*len(str(num))\n",
    "    sta1 = True\n",
    "    sta2 = True\n",
    "    for n in range(1,len(str(num))+1):\n",
    "        nums[n-1] = (num // 10**(n-1)) % 10\n",
    "    \n",
    "    for n in range(1,len(str(num))):\n",
    "        if nums[n-1] < nums[n]:\n",
    "            sta1 = False\n",
    "        if nums[n-1] > nums[n]:\n",
    "            sta2 = False\n",
    "\n",
    "    return not(sta1 | sta2)\n",
    "    \n",
    "    "
   ]
  },
  {
   "cell_type": "markdown",
   "metadata": {},
   "source": [
    "Then, I wrote a while loop to find least number for which the proportion of bouncy numbers is exactly 99%."
   ]
  },
  {
   "cell_type": "code",
   "execution_count": 216,
   "metadata": {},
   "outputs": [
    {
     "name": "stdout",
     "output_type": "stream",
     "text": [
      "1587000\n"
     ]
    }
   ],
   "source": [
    "l = 0\n",
    "x = 1\n",
    "\n",
    "while True:\n",
    "    if check_b(x):\n",
    "        l += 1\n",
    "    if l/x == 0.99:\n",
    "        break\n",
    "    x += 1\n",
    "            \n",
    "print(x)"
   ]
  },
  {
   "cell_type": "markdown",
   "metadata": {},
   "source": [
    "Thus, the answer to this question is **1587000**."
   ]
  },
  {
   "cell_type": "code",
   "execution_count": null,
   "metadata": {},
   "outputs": [],
   "source": []
  }
 ],
 "metadata": {
  "kernelspec": {
   "display_name": "Python 3",
   "language": "python",
   "name": "python3"
  },
  "language_info": {
   "codemirror_mode": {
    "name": "ipython",
    "version": 3
   },
   "file_extension": ".py",
   "mimetype": "text/x-python",
   "name": "python",
   "nbconvert_exporter": "python",
   "pygments_lexer": "ipython3",
   "version": "3.7.8"
  }
 },
 "nbformat": 4,
 "nbformat_minor": 4
}
